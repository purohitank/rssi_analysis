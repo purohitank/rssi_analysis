{
 "cells": [
  {
   "cell_type": "code",
   "execution_count": 1,
   "metadata": {},
   "outputs": [],
   "source": [
    "import numpy as np\n",
    "import plotly.graph_objects as go\n",
    "from ipywidgets import widgets"
   ]
  },
  {
   "cell_type": "markdown",
   "metadata": {},
   "source": [
    "Parameters of the LDO chip"
   ]
  },
  {
   "cell_type": "code",
   "execution_count": 2,
   "metadata": {},
   "outputs": [],
   "source": [
    "ldo_output = 3.3  # Output voltage of the LDO (In Volts)\n",
    "ldo_variance = 0.03  # Need to check datasheet for this value"
   ]
  },
  {
   "cell_type": "markdown",
   "metadata": {},
   "source": [
    "Search Window"
   ]
  },
  {
   "cell_type": "code",
   "execution_count": 3,
   "metadata": {},
   "outputs": [],
   "source": [
    "i_fraction_list = np.arange(0.05, 0.5, 0.05)  # fraction of current in one of the. it is symmetric, so using half window\n",
    "\n",
    "i_load_list = np.arange(0.1, 0.55, 0.05)  # load current in mA"
   ]
  },
  {
   "cell_type": "markdown",
   "metadata": {},
   "source": [
    "Function to give us the BALLAST_RESISTOR & DROPOUT_VOLTAGE for a given load current and current fraction through 1 LDO"
   ]
  },
  {
   "cell_type": "code",
   "execution_count": 4,
   "metadata": {},
   "outputs": [],
   "source": [
    "def get_electrical_params(i_load, i_frac, ldo_var):\n",
    "\n",
    "    v_diff = 2*ldo_var*ldo_output\n",
    "    r_ballast = v_diff/(i_load*abs(1-2*i_frac))\n",
    "\n",
    "    # dropout_voltage_max = r_ballast*i_load*max(i_frac, 1-i_frac)\n",
    "    dropout_voltage = v_diff+0.5*(r_ballast*i_load-v_diff)\n",
    "    # return r_ballast, dropout_voltage_max\n",
    "    return r_ballast, dropout_voltage"
   ]
  },
  {
   "cell_type": "code",
   "execution_count": 5,
   "metadata": {},
   "outputs": [],
   "source": [
    "def get_calculations(ldo_vari, iload_list=i_load_list, ifraction_list=i_fraction_list):\n",
    "    \n",
    "    calc_flag = False\n",
    "    resistor_matrix = np.zeros((len(i_load_list), len(i_fraction_list)), dtype=float)\n",
    "    # An array cause the dropout voltage is independent of the load current and depends only on the fraction of load current\n",
    "    dropout_voltage_array = np.zeros((len(i_fraction_list)), dtype=float) \n",
    "\n",
    "    for ind1 in range(resistor_matrix.shape[0]):\n",
    "\n",
    "        for ind2 in range(resistor_matrix.shape[1]):\n",
    "\n",
    "            r_b, do_volt = get_electrical_params(iload_list[ind1], ifraction_list[ind2], ldo_var=ldo_vari)\n",
    "\n",
    "            resistor_matrix[ind1, ind2] = r_b\n",
    "\n",
    "            if not calc_flag:\n",
    "\n",
    "                dropout_voltage_array[ind2] = do_volt\n",
    "\n",
    "        calc_flag = True\n",
    "    \n",
    "    return resistor_matrix, dropout_voltage_array\n",
    "    "
   ]
  },
  {
   "cell_type": "code",
   "execution_count": 6,
   "metadata": {},
   "outputs": [],
   "source": [
    "def response(change):\n",
    "    # Function to change the graphics\n",
    "        \n",
    "    res_mat, do_volt_arr = get_calculations(float_text_R.value)\n",
    "        \n",
    "    with g1.batch_update():\n",
    "        g1.data[0].z = res_mat\n",
    "        \n",
    "    with g2.batch_update():\n",
    "#         g2.data[0].y = []\n",
    "        g2.data[0].y = do_volt_arr*1e3\n",
    "        \n"
   ]
  },
  {
   "cell_type": "markdown",
   "metadata": {},
   "source": [
    "Fill in the data for resistor matrix and for dropout voltage"
   ]
  },
  {
   "cell_type": "code",
   "execution_count": 7,
   "metadata": {},
   "outputs": [],
   "source": [
    "r_mat, do_volt_array = get_calculations(ldo_variance)"
   ]
  },
  {
   "cell_type": "code",
   "execution_count": 8,
   "metadata": {},
   "outputs": [
    {
     "data": {
      "application/vnd.jupyter.widget-view+json": {
       "model_id": "265a6336ea224688a7e48a2f62cae20f",
       "version_major": 2,
       "version_minor": 0
      },
      "text/plain": [
       "VBox(children=(HBox(children=(BoundedFloatText(value=0.03, description='Output Variance: ', max=0.05, min=0.01…"
      ]
     },
     "metadata": {},
     "output_type": "display_data"
    }
   ],
   "source": [
    "fig1 = go.Figure()\n",
    "\n",
    "trace1 = go.Surface(x=i_fraction_list, y=(i_load_list*1e3), z=r_mat)\n",
    "\n",
    "fig1.add_trace(trace1)\n",
    "\n",
    "fig1.update_layout(scene = dict(xaxis_title=\"Load Current Fraction-->\", \n",
    "                   yaxis_title=\"Load Current (mA)-->\", \n",
    "                   zaxis_title=\"Ballast Resistance (ohm)-->\"), \n",
    "                   margin=dict(l=65, r=50, b=65, t=90), \n",
    "                  title=\"Ballast Resistor Values\",\n",
    "                  title_x=0.5)\n",
    "\n",
    "fig2 = go.Figure()\n",
    "\n",
    "trace2 = go.Scatter(x=i_fraction_list, y=(do_volt_array*1e3))\n",
    "\n",
    "fig2.add_trace(trace2)\n",
    "\n",
    "fig2.update_layout(title='Dropout Voltage Behaviour',\n",
    "                   title_x=0.5,\n",
    "                  xaxis_title='Load Current Fraction -->',\n",
    "                  yaxis_title='Dropout Voltage (mV)-->')\n",
    "\n",
    "g1 = go.FigureWidget(fig1)\n",
    "g2 = go.FigureWidget(fig2)\n",
    "\n",
    "float_text_R = widgets.BoundedFloatText(\n",
    "    value=ldo_variance,\n",
    "    min=0.01,\n",
    "    max=0.05,\n",
    "    step=0.01,\n",
    "    description='Output Variance: ',\n",
    "    disabled=False\n",
    ")\n",
    "\n",
    "float_text_R.observe(response, names=\"value\")\n",
    "\n",
    "# container = widgets.VBox([float_text_R, fig1, fig2])\n",
    "\n",
    "# display(widgets.VBox([fig1, fig2]))\n",
    "container1 = widgets.HBox([float_text_R])\n",
    "display(widgets.VBox([container1, g1, g2]))\n"
   ]
  }
 ],
 "metadata": {
  "kernelspec": {
   "display_name": "Python 3",
   "language": "python",
   "name": "python3"
  },
  "language_info": {
   "codemirror_mode": {
    "name": "ipython",
    "version": 3
   },
   "file_extension": ".py",
   "mimetype": "text/x-python",
   "name": "python",
   "nbconvert_exporter": "python",
   "pygments_lexer": "ipython3",
   "version": "3.8.2"
  }
 },
 "nbformat": 4,
 "nbformat_minor": 4
}
