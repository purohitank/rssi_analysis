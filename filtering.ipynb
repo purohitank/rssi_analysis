{
  "cells": [
    {
      "cell_type": "markdown",
      "source": [
        "Here we will be making a plotter for the time series data obtained for:\n",
        "i) Different Tx powers and ii) Different positions"
      ],
      "metadata": {}
    },
    {
      "cell_type": "markdown",
      "source": [
        "Firstly importing the required modules"
      ],
      "metadata": {}
    },
    {
      "cell_type": "code",
      "source": [
        "import plotly.graph_objs as go\n",
        "import numpy as np\n",
        "from ipywidgets import widgets\n",
        "import scipy as sp"
      ],
      "outputs": [],
      "execution_count": null,
      "metadata": {}
    },
    {
      "cell_type": "markdown",
      "source": [
        "Opening the datafile containing the saved parameters"
      ],
      "metadata": {}
    },
    {
      "cell_type": "code",
      "source": [
        "data_file = open(\"data/basic_parameters.dat\", \"rb\")\n",
        "print(\"Datafile has been opened!\")"
      ],
      "outputs": [],
      "execution_count": null,
      "metadata": {}
    },
    {
      "cell_type": "markdown",
      "source": [
        "Loading the saved numpy objects into the memory"
      ],
      "metadata": {}
    },
    {
      "cell_type": "code",
      "source": [
        "npz_obj = np.load(data_file)\n",
        "\n",
        "x_axis = npz_obj['x_axis']\n",
        "\n",
        "x_axis_list = []\n",
        "\n",
        "for item_x in x_axis:\n",
        "    \n",
        "    x_axis_list.append(str(item_x))\n",
        "    \n",
        "\n",
        "data_tensor = npz_obj['data_tensor']\n",
        "\n",
        "mean_mat = npz_obj['mean_mat']\n",
        "\n",
        "power_list = npz_obj['power_list']"
      ],
      "outputs": [],
      "execution_count": null,
      "metadata": {}
    },
    {
      "cell_type": "markdown",
      "source": [
        "Testing the loaded variables"
      ],
      "metadata": {}
    },
    {
      "cell_type": "code",
      "source": [
        "power_list = power_list.tolist()"
      ],
      "outputs": [],
      "execution_count": null,
      "metadata": {}
    },
    {
      "cell_type": "code",
      "source": [
        "median_mat = np.median(data_tensor, axis=2)"
      ],
      "outputs": [],
      "execution_count": null,
      "metadata": {}
    },
    {
      "cell_type": "markdown",
      "source": [
        "Closing the datafile"
      ],
      "metadata": {}
    },
    {
      "cell_type": "code",
      "source": [
        "data_file.close()\n",
        "print(\"Datafile has been closed!\")"
      ],
      "outputs": [],
      "execution_count": null,
      "metadata": {}
    },
    {
      "cell_type": "code",
      "source": [
        "fig1 = go.Figure()\n",
        "fig2 = go.Figure()"
      ],
      "outputs": [],
      "execution_count": null,
      "metadata": {}
    },
    {
      "cell_type": "code",
      "source": [
        "default_tx_pwr_ind = 4 \n",
        "default_pos_ind = 0\n",
        "\n",
        "textbox_pwr = widgets.Dropdown(\n",
        "    description='Tx Power:',\n",
        "    value=power_list[default_tx_pwr_ind],\n",
        "    options=power_list\n",
        ")\n",
        "\n",
        "textbox_pos = widgets.Dropdown(\n",
        "    description='Position (ft):   ',\n",
        "    value=x_axis_list[default_pos_ind],\n",
        "    options=x_axis_list\n",
        ")\n",
        "\n",
        "container = widgets.HBox([textbox_pwr, textbox_pos])"
      ],
      "outputs": [],
      "execution_count": null,
      "metadata": {}
    },
    {
      "cell_type": "code",
      "source": [
        "trace1 = go.Scatter(x=np.arange(data_tensor.shape[2]), y=data_tensor[default_tx_pwr_ind, default_pos_ind, :], mode='lines+markers', name='Raw Data')\n",
        "trace2 = go.Scatter(x=np.arange(data_tensor.shape[2]), y=np.ones(data_tensor.shape[2])*mean_mat[default_tx_pwr_ind, default_pos_ind], mode='lines', name='Average')\n",
        "trace3 = go.Scatter(x=np.arange(data_tensor.shape[2]), y=np.ones(data_tensor.shape[2])*median_mat[default_tx_pwr_ind, default_pos_ind], mode='lines', name='Median')\n",
        "trace4 = go.Histogram(x=data_tensor[default_tx_pwr_ind, default_pos_ind, :], histnorm='probability')"
      ],
      "outputs": [],
      "execution_count": null,
      "metadata": {}
    },
    {
      "cell_type": "code",
      "source": [
        "fig1.add_trace(trace1)\n",
        "fig1.add_trace(trace2)\n",
        "fig1.add_trace(trace3)\n",
        "\n",
        "fig2.add_trace(trace4)\n",
        "\n",
        "fig1.update_layout(\n",
        "    title={\n",
        "        'text': \"RSSI Time Series\",\n",
        "        'y':0.9,\n",
        "        'x':0.5,\n",
        "        'xanchor': 'center',\n",
        "        'yanchor': 'top'},\n",
        "    xaxis_title=\"Time Step\",\n",
        "    yaxis_title=\"RSSI Power (dBm)\")\n",
        "\n",
        "fig1.update_xaxes(rangeslider_visible=True)\n",
        "\n",
        "fig2.update_layout(\n",
        "    title={\n",
        "        'text': \"Normalized Histogram\",\n",
        "        'y':0.9,\n",
        "        'x':0.5,\n",
        "        'xanchor': 'center',\n",
        "        'yanchor': 'top'},\n",
        "    xaxis_title=\"RSSI\",\n",
        "    yaxis_title=\"Count\")"
      ],
      "outputs": [],
      "execution_count": null,
      "metadata": {}
    },
    {
      "cell_type": "code",
      "source": [
        "g1 = go.FigureWidget(fig1, layout=go.Layout(title=dict(text='Time Series for RSSI')))\n",
        "g2 = go.FigureWidget(fig2)"
      ],
      "outputs": [],
      "execution_count": null,
      "metadata": {}
    },
    {
      "cell_type": "code",
      "source": [
        "def response(change):\n",
        "    \n",
        "    pwr_val = textbox_pwr.value\n",
        "    pos_val = textbox_pos.value\n",
        "    \n",
        "    ind_pwr = power_list.index(pwr_val)\n",
        "    ind_pos = x_axis_list.index(pos_val)\n",
        "    \n",
        "    y = data_tensor[ind_pwr, ind_pos, :]\n",
        "    \n",
        "    with g1.batch_update():\n",
        "            g1.data[0].y = y\n",
        "            g1.data[1].y = np.ones(len(y))*mean_mat[ind_pwr][ind_pos]\n",
        "            g1.data[2].y = np.ones(len(y))*median_mat[ind_pwr][ind_pos]\n",
        "    \n",
        "    with g2.batch_update():\n",
        "            g2.data[0].x = y\n",
        "            \n",
        "            \n",
        "textbox_pwr.observe(response, names=\"value\")\n",
        "textbox_pos.observe(response, names=\"value\")\n",
        "\n"
      ],
      "outputs": [],
      "execution_count": null,
      "metadata": {}
    },
    {
      "cell_type": "code",
      "source": [
        "display(widgets.VBox([container, g1, g2]))"
      ],
      "outputs": [],
      "execution_count": null,
      "metadata": {}
    }
  ],
  "metadata": {
    "kernelspec": {
      "display_name": "Python 3",
      "language": "python",
      "name": "python3"
    },
    "language_info": {
      "codemirror_mode": {
        "name": "ipython",
        "version": 3
      },
      "file_extension": ".py",
      "mimetype": "text/x-python",
      "name": "python",
      "nbconvert_exporter": "python",
      "pygments_lexer": "ipython3",
      "version": "3.8.2"
    },
    "nteract": {
      "version": "0.24.0"
    }
  },
  "nbformat": 4,
  "nbformat_minor": 4
}